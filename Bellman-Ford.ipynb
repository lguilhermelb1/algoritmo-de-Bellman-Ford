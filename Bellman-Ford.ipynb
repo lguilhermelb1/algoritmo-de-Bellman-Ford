{
 "cells": [
  {
   "cell_type": "code",
   "execution_count": 448,
   "metadata": {},
   "outputs": [
    {
     "data": {
      "text/html": [
       "<div>\n",
       "<style scoped>\n",
       "    .dataframe tbody tr th:only-of-type {\n",
       "        vertical-align: middle;\n",
       "    }\n",
       "\n",
       "    .dataframe tbody tr th {\n",
       "        vertical-align: top;\n",
       "    }\n",
       "\n",
       "    .dataframe thead th {\n",
       "        text-align: right;\n",
       "    }\n",
       "</style>\n",
       "<table border=\"1\" class=\"dataframe\">\n",
       "  <thead>\n",
       "    <tr style=\"text-align: right;\">\n",
       "      <th></th>\n",
       "      <th>Origem</th>\n",
       "      <th>Destino</th>\n",
       "      <th>Peso</th>\n",
       "    </tr>\n",
       "  </thead>\n",
       "  <tbody>\n",
       "    <tr>\n",
       "      <th>0</th>\n",
       "      <td>s</td>\n",
       "      <td>t</td>\n",
       "      <td>6</td>\n",
       "    </tr>\n",
       "    <tr>\n",
       "      <th>1</th>\n",
       "      <td>s</td>\n",
       "      <td>y</td>\n",
       "      <td>7</td>\n",
       "    </tr>\n",
       "    <tr>\n",
       "      <th>2</th>\n",
       "      <td>t</td>\n",
       "      <td>x</td>\n",
       "      <td>5</td>\n",
       "    </tr>\n",
       "    <tr>\n",
       "      <th>3</th>\n",
       "      <td>t</td>\n",
       "      <td>y</td>\n",
       "      <td>8</td>\n",
       "    </tr>\n",
       "    <tr>\n",
       "      <th>4</th>\n",
       "      <td>t</td>\n",
       "      <td>z</td>\n",
       "      <td>-4</td>\n",
       "    </tr>\n",
       "    <tr>\n",
       "      <th>5</th>\n",
       "      <td>x</td>\n",
       "      <td>t</td>\n",
       "      <td>-2</td>\n",
       "    </tr>\n",
       "    <tr>\n",
       "      <th>6</th>\n",
       "      <td>y</td>\n",
       "      <td>x</td>\n",
       "      <td>-3</td>\n",
       "    </tr>\n",
       "    <tr>\n",
       "      <th>7</th>\n",
       "      <td>y</td>\n",
       "      <td>z</td>\n",
       "      <td>9</td>\n",
       "    </tr>\n",
       "    <tr>\n",
       "      <th>8</th>\n",
       "      <td>z</td>\n",
       "      <td>s</td>\n",
       "      <td>2</td>\n",
       "    </tr>\n",
       "    <tr>\n",
       "      <th>9</th>\n",
       "      <td>z</td>\n",
       "      <td>x</td>\n",
       "      <td>7</td>\n",
       "    </tr>\n",
       "  </tbody>\n",
       "</table>\n",
       "</div>"
      ],
      "text/plain": [
       "  Origem Destino  Peso\n",
       "0      s       t     6\n",
       "1      s       y     7\n",
       "2      t       x     5\n",
       "3      t       y     8\n",
       "4      t       z    -4\n",
       "5      x       t    -2\n",
       "6      y       x    -3\n",
       "7      y       z     9\n",
       "8      z       s     2\n",
       "9      z       x     7"
      ]
     },
     "execution_count": 448,
     "metadata": {},
     "output_type": "execute_result"
    }
   ],
   "source": [
    "import pandas as pd\n",
    "\n",
    "data = pd.read_csv(\"entrada1.csv\",names=[\"Origem\", \"Destino\", \"Peso\"], encoding = \"ISO-8859-1\")\n",
    "data"
   ]
  },
  {
   "cell_type": "code",
   "execution_count": 449,
   "metadata": {},
   "outputs": [],
   "source": [
    "class Grafo:\n",
    "\n",
    "    #Construtor\n",
    "    def __init__(self, vertices):\n",
    "        self.V = vertices   #Quantidade de vertices\n",
    "        self.grafo = []     #Grafo\n",
    "\n",
    "    #Cria aresta\n",
    "    def addAresta(self, u, v, w):\n",
    "        self.grafo.append([u, v, w])\n",
    "\n",
    "    def bellmanFord(self, inicial):\n",
    "        #Inicializa distâncias a partir do vertice inicial\n",
    "        dist = {}\n",
    "\n",
    "        for i in self.V:\n",
    "            if i != inicial:\n",
    "                dist[i] = [\"\", float(\"Inf\")]\n",
    "            else:\n",
    "                dist[i] = [i, 0]\n",
    "                \n",
    "        #Relaxamento em todas as arestas |V|-1 vezes\n",
    "        for _ in range(len(self.V)-1):\n",
    "            #Atualiza valores da distância (dist)\n",
    "            for u, v, w in self.grafo:\n",
    "                if dist[u][1] != float(\"Inf\") and dist[u][1] + w < dist[v][1]:\n",
    "                    dist[v][1] = dist[u][1] + w\n",
    "\n",
    "        #Busca por ciclos negativos\n",
    "        for u, v, w in self.grafo:\n",
    "            if dist[u][1] != float(\"Inf\") and dist[u][1] + w < dist[v][1]:\n",
    "                print(\"Ciclo negativo\")\n",
    "                return\n",
    "\n",
    "        #Mostra as distâncias\n",
    "        print(dist)"
   ]
  },
  {
   "cell_type": "code",
   "execution_count": 450,
   "metadata": {},
   "outputs": [],
   "source": [
    "#Função pra definir os vertices do grafo\n",
    "def defineVertices(data):\n",
    "    vertices = []\n",
    "    for i in range(len(data[\"Origem\"])):\n",
    "        if data[\"Origem\"][i] not in vertices:\n",
    "            vertices.append(data[\"Origem\"][i])\n",
    "    return vertices\n"
   ]
  },
  {
   "cell_type": "code",
   "execution_count": 451,
   "metadata": {},
   "outputs": [],
   "source": [
    "def criaGrafo(data):\n",
    "    #Define inicial\n",
    "    inicial = 's'\n",
    "    #Grafo é criado\n",
    "    g = Grafo(defineVertices(data))\n",
    "    #Guarda os valores do csv no grafo\n",
    "    for i in range(len(data[\"Origem\"])):\n",
    "        g.addAresta(data[\"Origem\"][i], data[\"Destino\"][i], data[\"Peso\"][i])\n",
    "    #Retorna o algoritmo\n",
    "    return g.bellmanFord(inicial)\n"
   ]
  },
  {
   "cell_type": "code",
   "execution_count": 452,
   "metadata": {},
   "outputs": [
    {
     "name": "stdout",
     "output_type": "stream",
     "text": [
      "{'s': ['s', 0], 't': ['', 2], 'x': ['', 4], 'y': ['', 7], 'z': ['', -2]}\n"
     ]
    }
   ],
   "source": [
    "criaGrafo(data)\n"
   ]
  }
 ],
 "metadata": {
  "interpreter": {
   "hash": "e520b3ff7cf246111ae6aaa8c952e6cb93639346388a365209613764d9559090"
  },
  "kernelspec": {
   "display_name": "Python 3.10.4 64-bit",
   "language": "python",
   "name": "python3"
  },
  "language_info": {
   "codemirror_mode": {
    "name": "ipython",
    "version": 3
   },
   "file_extension": ".py",
   "mimetype": "text/x-python",
   "name": "python",
   "nbconvert_exporter": "python",
   "pygments_lexer": "ipython3",
   "version": "3.10.4"
  },
  "orig_nbformat": 4
 },
 "nbformat": 4,
 "nbformat_minor": 2
}
